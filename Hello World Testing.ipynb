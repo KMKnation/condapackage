{
 "cells": [
  {
   "cell_type": "code",
   "execution_count": null,
   "id": "ec557314",
   "metadata": {},
   "outputs": [],
   "source": [
    "import tempfile\n",
    "job_script = tempfile.NamedTemporaryFile(suffix=\".py\")\n",
    " \n",
    "# Write a simple 'Hello World' script\n",
    "with open(job_script.name, mode=\"w\") as f:\n",
    "    f.write(f\"\"\"print(\"Hello Data Science\")\"\"\")\n",
    " \n"
   ]
  },
  {
   "cell_type": "code",
   "execution_count": null,
   "id": "6f348a7a",
   "metadata": {},
   "outputs": [],
   "source": [
    "import ads\n",
    "ads.set_auth(auth='resource_principal')\n",
    "ads.set_debug_mode('True')"
   ]
  },
  {
   "cell_type": "code",
   "execution_count": null,
   "id": "85250d4b",
   "metadata": {},
   "outputs": [],
   "source": [
    "# Instantiate a job using the resource name defined previously\n",
    "from ads.jobs import Job\n",
    "job = Job(name=\"my_hello_job\")"
   ]
  },
  {
   "cell_type": "code",
   "execution_count": null,
   "id": "b3cdbee7",
   "metadata": {},
   "outputs": [],
   "source": [
    "from ads.jobs import DataScienceJob\n",
    "job.with_infrastructure(DataScienceJob() \\\n",
    "    .with_log_group_id('<group_log_ocid>') \\\n",
    "    .with_shape_name('VM.Standard2.1')\\\n",
    "    .with_compartment_id('<compartment_ocid>')\\\n",
    "    .with_project_id('<project_ocid>')\\\n",
    "    .with_block_storage_size(50)\\\n",
    "    .with_subnet_id('<subnet_ocid>'))"
   ]
  },
  {
   "cell_type": "code",
   "execution_count": null,
   "id": "43d9ce7d",
   "metadata": {},
   "outputs": [],
   "source": [
    "from ads.jobs import ScriptRuntime\n",
    "job.with_runtime(ScriptRuntime()\\\n",
    "                 .with_script(job_script.name)\\\n",
    "                 .with_custom_conda('oci://mayur-dev@ociodscdev/my/conda/pack'))"
   ]
  },
  {
   "cell_type": "code",
   "execution_count": null,
   "id": "e6dd2771",
   "metadata": {},
   "outputs": [],
   "source": [
    "ads.__version__"
   ]
  },
  {
   "cell_type": "code",
   "execution_count": null,
   "id": "902fde43",
   "metadata": {},
   "outputs": [],
   "source": [
    "from ads.jobs import PythonRuntime\n",
    "job.with_runtime(PythonRuntime()\\\n",
    "                 .with_script(job_script.name)\\\n",
    "                 .with_service_conda('tensorflow26_p37_cpu_v1'))"
   ]
  },
  {
   "cell_type": "code",
   "execution_count": null,
   "id": "b6457c46",
   "metadata": {},
   "outputs": [],
   "source": [
    "job.create()"
   ]
  },
  {
   "cell_type": "code",
   "execution_count": null,
   "id": "72c95b46",
   "metadata": {},
   "outputs": [],
   "source": [
    "jobinstance = job.run()"
   ]
  },
  {
   "cell_type": "code",
   "execution_count": null,
   "id": "9c3f9055",
   "metadata": {},
   "outputs": [],
   "source": [
    "jobinstance.watch()"
   ]
  },
  {
   "cell_type": "code",
   "execution_count": null,
   "id": "c0bec3d7",
   "metadata": {},
   "outputs": [],
   "source": [
    "job.to_yaml('job_config.yaml')"
   ]
  },
  {
   "cell_type": "code",
   "execution_count": null,
   "id": "ed00fb8d",
   "metadata": {},
   "outputs": [],
   "source": [
    "!ls"
   ]
  },
  {
   "cell_type": "code",
   "execution_count": null,
   "id": "8716aedd",
   "metadata": {},
   "outputs": [],
   "source": [
    "!cat job_config.yaml"
   ]
  },
  {
   "cell_type": "code",
   "execution_count": null,
   "id": "bbbec21e",
   "metadata": {},
   "outputs": [],
   "source": []
  }
 ],
 "metadata": {
  "kernelspec": {
   "display_name": "Python 3 (ipykernel)",
   "language": "python",
   "name": "python3"
  },
  "language_info": {
   "codemirror_mode": {
    "name": "ipython",
    "version": 3
   },
   "file_extension": ".py",
   "mimetype": "text/x-python",
   "name": "python",
   "nbconvert_exporter": "python",
   "pygments_lexer": "ipython3",
   "version": "3.8.0"
  }
 },
 "nbformat": 4,
 "nbformat_minor": 5
}
